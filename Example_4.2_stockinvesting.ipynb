{
 "cells": [
  {
   "cell_type": "markdown",
   "metadata": {},
   "source": [
    "# Stock investing Example"
   ]
  },
  {
   "cell_type": "code",
   "execution_count": null,
   "metadata": {},
   "outputs": [],
   "source": [
    "#%load_ext autoreload\n",
    "#%autoreload 2\n",
    "import numpy as np\n",
    "import copy \n",
    "import random\n",
    "import pandas as pd\n",
    "import datetime as dt\n",
    "from tqdm import tqdm\n",
    "from scipy.stats import binom\n",
    "import matplotlib.dates as mdates\n",
    "from scipy.optimize import minimize\n",
    "import matplotlib.pyplot as plt\n",
    "import yfinance as yf\n",
    "import itertools\n",
    "from finite_q_learning import *\n",
    "from q_learning import *\n",
    "\n",
    "rng = np.random.default_rng()"
   ]
  },
  {
   "cell_type": "markdown",
   "metadata": {},
   "source": [
    "Importation of market data from yahoo finance"
   ]
  },
  {
   "cell_type": "code",
   "execution_count": null,
   "metadata": {},
   "outputs": [],
   "source": [
    "data = yf.download(\"GOOGL\", start=\"2010-01-02\", end=\"2024-01-01\")\n",
    "data = data.reset_index()\n",
    "data[\"Date\"] =  data['Date'].dt.normalize()\n",
    "data.set_index('Date', inplace=True)\n",
    "data = data.reset_index()"
   ]
  },
  {
   "cell_type": "markdown",
   "metadata": {},
   "source": [
    "Computation of the return of the stock selected"
   ]
  },
  {
   "cell_type": "code",
   "execution_count": null,
   "metadata": {},
   "outputs": [],
   "source": [
    "ind_pos   = ((np.diff(data[\"Close\"])/(data[\"Close\"])[:-1]) >= 0)\n",
    "ind_neg   = ((np.diff(data[\"Close\"])/(data[\"Close\"])[:-1]) <0)\n",
    "\n",
    "returns = np.zeros(len(data)-1)\n",
    "returns[ind_pos]   =  1\n",
    "returns[ind_neg]   = -1"
   ]
  },
  {
   "cell_type": "markdown",
   "metadata": {},
   "source": [
    "Definition of training and testing periods"
   ]
  },
  {
   "cell_type": "code",
   "execution_count": null,
   "metadata": {},
   "outputs": [],
   "source": [
    "training_start1 = 800\n",
    "training_end1   = 1_100\n",
    "returns_train_1  = returns[training_start1:training_end1]\n",
    "\n",
    "training_start2 = 2_100\n",
    "training_end2   = 2_300\n",
    "returns_train_2  = returns[training_start2:training_end2]\n",
    "\n",
    "training_start3 = 2_700\n",
    "training_end3   = 3_000\n",
    "returns_train_3  = returns[training_start3:training_end3]\n",
    "\n",
    "returns_train_all = returns[:3000]\n",
    "\n",
    "test_period_start1 = 3_001\n",
    "test_period_end1 = 3_300\n",
    "returns_test_1 = returns[test_period_start1:test_period_end1]\n",
    "\n",
    "test_period_start2 = 3_301\n",
    "test_period_end2 = 3_500\n",
    "returns_test_2= returns[test_period_start2:test_period_end2]"
   ]
  },
  {
   "cell_type": "markdown",
   "metadata": {},
   "source": [
    "Verification that the training periods correspond to really different periods"
   ]
  },
  {
   "cell_type": "markdown",
   "metadata": {},
   "source": [
    "## Illustration of Training and Test Periods"
   ]
  },
  {
   "cell_type": "markdown",
   "metadata": {},
   "source": [
    "Overall"
   ]
  },
  {
   "cell_type": "code",
   "execution_count": null,
   "metadata": {},
   "outputs": [],
   "source": [
    "plt.plot(range(test_period_end2),returns[:test_period_end2].cumsum())\n",
    "plt.plot(range(training_start1,training_end1),returns.cumsum()[training_start1:training_end1],color = \"red\",label = \"Training Period 1\")\n",
    "plt.plot(range(training_start2,training_end2),returns.cumsum()[training_start2:training_end2],color = \"green\",label = \"Training Period 2\")\n",
    "plt.plot(range(training_start3,training_end3),returns.cumsum()[training_start3:training_end3],color = \"orange\",label = \"Training Period 3\")\n",
    "plt.plot(range(test_period_start1,test_period_end1),returns.cumsum()[test_period_start1:test_period_end1],color = \"gray\",label = \"Test Period 1\")\n",
    "plt.plot(range(test_period_start2,test_period_end2),returns.cumsum()[test_period_start2:test_period_end2],color = \"black\",label = \"Test Period 2\")\n",
    "\n",
    "plt.ylabel(\"Cumulative Sum of Signs of the Returns\")\n",
    "# xtick_numbers = [0,test_period_start1]\n",
    "# plt.xticks(xtick_numbers, data[\"Date\"].iloc[xtick_numbers])\n",
    "\n",
    "# Customize x-axis to show only the day and year\n",
    "date_format = mdates.DateFormatter('%d-%Y')\n",
    "plt.gca().xaxis.set_major_formatter(date_format)\n",
    "\n",
    "# Set the locations of the ticks on x-axis\n",
    "xtick_numbers = [0,training_start1,training_end1,\n",
    "                 training_start2,training_end2,\n",
    "                 training_start3,\n",
    "                 test_period_start1,test_period_end1,test_period_end2]\n",
    "plt.xticks(xtick_numbers,data[\"Date\"].dt.date[xtick_numbers], rotation=45,ha = \"right\")\n",
    "\n",
    "plt.legend()\n",
    "plt.grid(True)\n",
    "\n",
    "plt.tight_layout()\n",
    "plt.savefig('portfolio_train_test.pdf', format='pdf')\n",
    "plt.show()"
   ]
  },
  {
   "cell_type": "markdown",
   "metadata": {},
   "source": [
    "### Training Period 1"
   ]
  },
  {
   "cell_type": "code",
   "execution_count": null,
   "metadata": {},
   "outputs": [],
   "source": [
    "plt.plot(returns_train_1.cumsum())"
   ]
  },
  {
   "cell_type": "markdown",
   "metadata": {},
   "source": [
    "### Training Period 2"
   ]
  },
  {
   "cell_type": "code",
   "execution_count": null,
   "metadata": {},
   "outputs": [],
   "source": [
    "plt.plot(returns_train_2.cumsum())"
   ]
  },
  {
   "cell_type": "markdown",
   "metadata": {},
   "source": [
    "### Training Period 3"
   ]
  },
  {
   "cell_type": "code",
   "execution_count": null,
   "metadata": {},
   "outputs": [],
   "source": [
    "plt.plot(returns_train_3.cumsum())"
   ]
  },
  {
   "cell_type": "code",
   "execution_count": null,
   "metadata": {},
   "outputs": [],
   "source": [
    "h    = 5 # Length of history\n",
    "ret1 = returns_train_1\n",
    "ret2 = returns_train_2\n",
    "ret3 = returns_train_3\n",
    "ret_all = returns_train_all\n",
    "#h2   = 4\n",
    "#returns"
   ]
  },
  {
   "cell_type": "markdown",
   "metadata": {},
   "source": [
    "Definition of the parameters to use the algorithm"
   ]
  },
  {
   "cell_type": "code",
   "execution_count": null,
   "metadata": {},
   "outputs": [],
   "source": [
    "# State Space\n",
    "T = [-1, 1]\n",
    "X = np.array(list(itertools.product(T, repeat=h)))\n",
    "#X\n",
    "#X2 = np.array(list(itertools.product(T, repeat=h2)))"
   ]
  },
  {
   "cell_type": "code",
   "execution_count": null,
   "metadata": {},
   "outputs": [],
   "source": [
    "A = np.array([-1, 0,1]) # Actions\n",
    "\n",
    "def r(x,a,y):\n",
    "    return a * y[-1]\n",
    "\n",
    "eps_greedy = 0.1   # Epsilon greedy policy\n",
    "alpha      = 0.95  # Discount Factor\n",
    "\n",
    "#x_0        = 0     # Initial Value\n",
    "rng  = np.random.default_rng()\n",
    "x1_0 = rng.choice(np.array([ret1[i:(h+i)]  for i in range(len(ret1)-h-1)]),axis = 0)\n",
    "x2_0 = rng.choice(np.array([ret2[i:(h+i)]  for i in range(len(ret2)-h-1)]),axis = 0)\n",
    "x3_0 = rng.choice(np.array([ret3[i:(h+i)]  for i in range(len(ret3)-h-1)]),axis = 0)\n",
    "x_all_0 = rng.choice(np.array([ret_all[i:(h+i)]  for i in range(len(ret_all)-h-1)]),axis = 0)\n",
    "\n",
    "k_0        = 0     # Initial index of the corresponding MDP, starting with the central proba of 1/2"
   ]
  },
  {
   "cell_type": "code",
   "execution_count": null,
   "metadata": {},
   "outputs": [],
   "source": [
    "# Build the functions that allow us to get the index of an element a (reps. x) in A (resp. X)\n",
    "if np.ndim(A) > 1:\n",
    "    A_list = A\n",
    "else:\n",
    "    A_list = np.array([[a] for a in A])\n",
    "if np.ndim(X) > 1:\n",
    "    X_list = X\n",
    "else:\n",
    "    X_list = np.array([[x] for x in X])\n",
    "\n",
    "def a_index(a):\n",
    "    return np.flatnonzero((a==A_list).all(1))[0]\n",
    "def x_index(x):\n",
    "    return np.flatnonzero((x==X_list).all(1))[0]"
   ]
  },
  {
   "cell_type": "markdown",
   "metadata": {},
   "source": [
    "For each x, computation of the probabilities of occurence of the next return"
   ]
  },
  {
   "cell_type": "code",
   "execution_count": null,
   "metadata": {},
   "outputs": [],
   "source": [
    "p1_list = []\n",
    "for x in X:\n",
    "    eps = 1e-8\n",
    "    x_u  = np.concatenate([x[1:], [1]])\n",
    "    x_d  = np.concatenate([x[1:], [-1]])\n",
    "    p_u_raw  = np.sum([np.all(ret1[i:(h+i)]==x_u) for i in range(len(ret1)-h-1)])\n",
    "    p_d_raw  = np.sum([np.all(ret1[i:(h+i)]==x_d) for i in range(len(ret1)-h-1)])\n",
    "    p_u  = (eps/5 + p_u_raw) / (p_u_raw + p_d_raw   + eps)\n",
    "    p_d  = (eps/5 + p_d_raw) / (p_u_raw + p_d_raw  + eps)\n",
    "    p1_list.append([p_d, p_u])\n",
    "\n",
    "p2_list = []\n",
    "for x in X:\n",
    "    eps = 1e-8\n",
    "    x_u  = np.concatenate([x[1:], [1]])\n",
    "    x_d  = np.concatenate([x[1:], [-1]])\n",
    "    p_u_raw  = np.sum([np.all(ret2[i:(h+i)]==x_u) for i in range(len(ret2)-h-1)])\n",
    "    p_d_raw  = np.sum([np.all(ret2[i:(h+i)]==x_d) for i in range(len(ret2)-h-1)])\n",
    "    p_u  = (eps/5 + p_u_raw) / (p_u_raw + p_d_raw   + eps)\n",
    "    p_d  = (eps/5 + p_d_raw) / (p_u_raw + p_d_raw  + eps)\n",
    "    p2_list.append([p_d, p_u])\n",
    "\n",
    "p3_list = []\n",
    "for x in X:\n",
    "    eps = 1e-8\n",
    "    x_u  = np.concatenate([x[1:], [1]])\n",
    "    x_d  = np.concatenate([x[1:], [-1]])\n",
    "    p_u_raw  = np.sum([np.all(ret3[i:(h+i)]==x_u) for i in range(len(ret3)-h-1)])\n",
    "    p_d_raw  = np.sum([np.all(ret3[i:(h+i)]==x_d) for i in range(len(ret3)-h-1)])\n",
    "    p_u  = (eps/5 + p_u_raw) / (p_u_raw + p_d_raw   + eps)\n",
    "    p_d  = (eps/5 + p_d_raw) / (p_u_raw + p_d_raw  + eps)\n",
    "    p3_list.append([p_d, p_u])\n",
    "\n",
    "p_all_list = []\n",
    "for x in X:\n",
    "    eps = 1e-8\n",
    "    x_u  = np.concatenate([x[1:], [1]])\n",
    "    x_d  = np.concatenate([x[1:], [-1]])\n",
    "    p_u_raw  = np.sum([np.all(ret_all[i:(h+i)]==x_u) for i in range(len(ret_all)-h-1)])\n",
    "    p_d_raw  = np.sum([np.all(ret_all[i:(h+i)]==x_d) for i in range(len(ret_all)-h-1)])\n",
    "    p_u  = (eps/5 + p_u_raw) / (p_u_raw + p_d_raw   + eps)\n",
    "    p_d  = (eps/5 + p_d_raw) / (p_u_raw + p_d_raw  + eps)\n",
    "    p_all_list.append([p_d, p_u])"
   ]
  },
  {
   "cell_type": "markdown",
   "metadata": {},
   "source": [
    "Construction of the worst case probability"
   ]
  },
  {
   "cell_type": "code",
   "execution_count": null,
   "metadata": {},
   "outputs": [],
   "source": [
    "def p1(x, a, y):\n",
    "    ind = np.flatnonzero((x==X).all(1))[0]\n",
    "    p_d, p_u = p1_list[ind]\n",
    "    return p_d * (y== -1 ) + p_u* (y== 1 ) \n",
    "\n",
    "def P1(x,a):\n",
    "    ind = np.flatnonzero((x==X).all(1))[0]\n",
    "    p_d, p_u = p1_list[ind]\n",
    "    rand_unif = (np.random.random_sample(size=1))\n",
    "    rand = - 1*int(rand_unif < p_d) +1*int(rand_unif >= (p_d))\n",
    "    return np.concatenate([x[1:],[rand]])\n",
    "\n",
    "def p2(x, a, y):\n",
    "    ind = np.flatnonzero((x==X).all(1))[0]\n",
    "    p_d, p_u = p2_list[ind]\n",
    "    return p_d * (y== -1 ) + p_u* (y== 1 ) \n",
    "def P2(x,a):\n",
    "    ind = np.flatnonzero((x==X).all(1))[0]\n",
    "    p_d, p_u = p2_list[ind]\n",
    "    rand_unif = (np.random.random_sample(size=1))\n",
    "    rand = - 1*int(rand_unif < p_d) +1*int(rand_unif >= (p_d))\n",
    "    return np.concatenate([x[1:],[rand]])\n",
    "\n",
    "\n",
    "def p3(x, a, y):\n",
    "    ind = np.flatnonzero((x==X).all(1))[0]\n",
    "    p_d, p_u = p3_list[ind]\n",
    "    return p_d * (y== -1 ) + p_u* (y== 1 ) \n",
    "def P3(x,a):\n",
    "    ind = np.flatnonzero((x==X).all(1))[0]\n",
    "    p_d, p_u = p3_list[ind]\n",
    "    rand_unif = (np.random.random_sample(size=1))\n",
    "    rand = - 1*int(rand_unif < p_d) +1*int(rand_unif >= (p_d))\n",
    "    return np.concatenate([x[1:],[rand]])\n",
    "\n",
    "def p_all(x, a, y):\n",
    "    ind = np.flatnonzero((x==X).all(1))[0]\n",
    "    p_d, p_u = p_all_list[ind]\n",
    "    return p_d * (y== -1 ) + p_u* (y== 1 ) \n",
    "    \n",
    "def P_all(x,a):\n",
    "    ind = np.flatnonzero((x==X).all(1))[0]\n",
    "    p_d, p_u = p_all_list[ind]\n",
    "    rand_unif = (np.random.random_sample(size=1))\n",
    "    rand = - 1*int(rand_unif < p_d) +1*int(rand_unif >= (p_d))\n",
    "    return np.concatenate([x[1:],[rand]])"
   ]
  },
  {
   "cell_type": "markdown",
   "metadata": {},
   "source": [
    "Define a function to evaluate the optimal action"
   ]
  },
  {
   "cell_type": "code",
   "execution_count": null,
   "metadata": {},
   "outputs": [],
   "source": [
    "def a_opt(t, Q_opt):\n",
    "    return A[np.argmax(Q_opt[x_index(t),:])]"
   ]
  },
  {
   "cell_type": "markdown",
   "metadata": {},
   "source": [
    "Compute the optimal Q-Value Functions"
   ]
  },
  {
   "cell_type": "code",
   "execution_count": null,
   "metadata": {},
   "outputs": [],
   "source": [
    "Nr_iter = 100000\n",
    "\n",
    "Q_opt_robust_1, V_robust = finite_q_learning(X, A, r, np.array([P_all,P1, P2, P3]), np.array([p_all,p1, p2, p3]), alpha, x1_0, k_0, eps_greedy, Nr_iter, gamma_t_tilde = lambda t: 1/(t+1), Q_0 = np.ones([len(X),len(A)]))\n",
    "Q_opt_1, V_1= q_learning(X, A, r, P1, alpha, x1_0, eps_greedy, Nr_iter, gamma_t_tilde = lambda t: 1/(t+1), Q_0 = np.ones([len(X),len(A)]))\n",
    "Q_opt_2, V_2 = q_learning(X, A, r, P2, alpha, x2_0, eps_greedy, Nr_iter, gamma_t_tilde = lambda t: 1/(t+1), Q_0 = np.ones([len(X),len(A)]))\n",
    "Q_opt_3, V_3 = q_learning(X, A, r, P3, alpha, x3_0, eps_greedy, Nr_iter, gamma_t_tilde = lambda t: 1/(t+1), Q_0 = np.ones([len(X),len(A)]))\n",
    "Q_opt_all, V_all = q_learning(X, A, r, P_all, alpha, x_all_0, eps_greedy, Nr_iter, gamma_t_tilde = lambda t: 1/(t+1), Q_0 = np.ones([len(X),len(A)]))\n",
    "\n",
    "# Save the results in csv-files\n",
    "df_rob = pd.DataFrame(np.array([[a_opt(x, Q_opt_robust_1) for x in X]]))\n",
    "df_1 = pd.DataFrame(np.array([[a_opt(x, Q_opt_1) for x in X]]))\n",
    "df_2 = pd.DataFrame(np.array([[a_opt(x, Q_opt_2) for x in X]]))\n",
    "df_3 = pd.DataFrame(np.array([[a_opt(x, Q_opt_3) for x in X]]))\n",
    "df_all = pd.DataFrame(np.array([[a_opt(x, Q_opt_all) for x in X]])) \n",
    "\n",
    "df_rob.to_csv('csv/Q_rob.csv')\n",
    "df_1.to_csv('csv/Q_1.csv')\n",
    "df_2.to_csv('csv/Q_2.csv')\n",
    "df_3.to_csv('csv/Q_3.csv')\n",
    "df_all.to_csv('csv/Q_all.csv')"
   ]
  },
  {
   "cell_type": "markdown",
   "metadata": {},
   "source": [
    "# Evaluation"
   ]
  },
  {
   "cell_type": "code",
   "execution_count": null,
   "metadata": {},
   "outputs": [],
   "source": [
    "def evaluate_strategies(returns):\n",
    "    X_t = np.array([returns[i:(h+i)]  for i in range(len(returns)-h-1)])\n",
    "    print(\"Days:             {}\\nNegative Returns:   {}\\nPositive Returns:   {}\\n\".format(len(returns),\n",
    "                                                                                np.sum(returns==-1),                                            \n",
    "                                                                                np.sum(returns==1)))\n",
    "    robust_rewards       = np.array([r(X_t[i],a_opt(X_t[i], Q_opt_robust_1),X_t[i+1]) for i in range(len(X_t)-1)])\n",
    "    rewards_1       = np.array([r(X_t[i],a_opt(X_t[i], Q_opt_1),X_t[i+1]) for i in range(len(X_t)-1)])\n",
    "    rewards_2       = np.array([r(X_t[i],a_opt(X_t[i], Q_opt_2),X_t[i+1]) for i in range(len(X_t)-1)])\n",
    "    rewards_3       = np.array([r(X_t[i],a_opt(X_t[i], Q_opt_3),X_t[i+1]) for i in range(len(X_t)-1)])\n",
    "    rewards_all      = np.array([r(X_t[i],a_opt(X_t[i], Q_opt_all),X_t[i+1]) for i in range(len(X_t)-1)])\n",
    "    \n",
    "    trend_following        = np.array([((X_t[i][-1]-X_t[i][0] > 0))  * X_t[i+1][-1] for i in range(len(X_t)-1)])\n",
    "    buy_and_hold           = np.array([ X_t[i+1][-1] for i in range(len(X_t)-1)])\n",
    "    \n",
    "    print(\n",
    "        \"- Average Profit per Trade -\\n\"\n",
    "        \"Robust:          {:0.4f}\\n\"\n",
    "        \"Non-Robust 1:    {:0.4f}\\n\"\n",
    "        \"Non-Robust 2:    {:0.4f}\\n\"\n",
    "        \"Non-Robust 3:    {:0.4f}\\n\"\n",
    "        \"All Data:        {:0.4f}\\n\"\n",
    "        \"Trend following: {:0.4f}\\n\"\n",
    "        \"Buy and hold:    {:0.4f}\".format(\n",
    "            np.mean(robust_rewards),\n",
    "            np.mean(rewards_1),\n",
    "            np.mean(rewards_2),\n",
    "            np.mean(rewards_3),\n",
    "            np.mean(rewards_all),\n",
    "            np.mean(trend_following),\n",
    "            np.mean(buy_and_hold)\n",
    "        )\n",
    "    )                                                                                                                                                                                  "
   ]
  },
  {
   "cell_type": "markdown",
   "metadata": {},
   "source": [
    "### First Training Period"
   ]
  },
  {
   "cell_type": "code",
   "execution_count": null,
   "metadata": {},
   "outputs": [],
   "source": [
    "evaluate_strategies(returns_train_1)"
   ]
  },
  {
   "cell_type": "markdown",
   "metadata": {},
   "source": [
    "### Second Training Period"
   ]
  },
  {
   "cell_type": "code",
   "execution_count": null,
   "metadata": {},
   "outputs": [],
   "source": [
    "evaluate_strategies(returns_train_2)"
   ]
  },
  {
   "cell_type": "markdown",
   "metadata": {},
   "source": [
    "### Third Training Period"
   ]
  },
  {
   "cell_type": "code",
   "execution_count": null,
   "metadata": {},
   "outputs": [],
   "source": [
    "evaluate_strategies(returns_train_3)"
   ]
  },
  {
   "cell_type": "markdown",
   "metadata": {},
   "source": [
    "# Test Period"
   ]
  },
  {
   "cell_type": "markdown",
   "metadata": {},
   "source": [
    "### Test Period 1"
   ]
  },
  {
   "cell_type": "code",
   "execution_count": null,
   "metadata": {},
   "outputs": [],
   "source": [
    "evaluate_strategies(returns_test_1)"
   ]
  },
  {
   "cell_type": "markdown",
   "metadata": {},
   "source": [
    "### Test Period 2"
   ]
  },
  {
   "cell_type": "code",
   "execution_count": null,
   "metadata": {},
   "outputs": [],
   "source": [
    "evaluate_strategies(returns_test_2)"
   ]
  }
 ],
 "metadata": {
  "kernelspec": {
   "display_name": "Python 3",
   "language": "python",
   "name": "python3"
  },
  "language_info": {
   "codemirror_mode": {
    "name": "ipython",
    "version": 3
   },
   "file_extension": ".py",
   "mimetype": "text/x-python",
   "name": "python",
   "nbconvert_exporter": "python",
   "pygments_lexer": "ipython3",
   "version": "3.11.9"
  }
 },
 "nbformat": 4,
 "nbformat_minor": 4
}
